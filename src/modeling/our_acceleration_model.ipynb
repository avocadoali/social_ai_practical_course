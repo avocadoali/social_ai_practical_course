{
 "cells": [
  {
   "cell_type": "markdown",
   "metadata": {},
   "source": [
    "# Acceleration model 4 parameters (Best one)\n"
   ]
  },
  {
   "cell_type": "markdown",
   "metadata": {},
   "source": [
    "## Imports\n",
    "Here we import libraries and the columns for prediction"
   ]
  },
  {
   "cell_type": "code",
   "execution_count": null,
   "metadata": {},
   "outputs": [],
   "source": [
    "import numpy as np\n",
    "from src.utils.evaluate_and_save import evaluate_and_save\n",
    "from src.utils.linear_regressor import perform_linear_regression\n",
    "from src.utils.column_import import columns\n"
   ]
  },
  {
   "cell_type": "markdown",
   "metadata": {},
   "source": [
    "Here we extract the needed column for the training and prediciton.\n",
    "\n",
    "Note that we have to do some shifting index shifting.\n",
    "For example for the acceleration colum it looks like this:\n",
    "\n",
    "| a(k-1) | a(k)    | a(k+1) |\n",
    "|--------|---------|--------|\n",
    "| a[:-2] | a[1:-1] | a[2:]  |\n",
    "\n",
    "\n"
   ]
  },
  {
   "cell_type": "code",
   "execution_count": null,
   "metadata": {},
   "outputs": [],
   "source": [
    "s_x, s_y, v_x, v_y, a_x, a_y = columns\n",
    "s_x_0 = s_x[:-2]\n",
    "s_y_0 = s_y[:-2]\n",
    "s_x_1 = s_x[1:-1]\n",
    "s_y_1 = s_y[1:-1]\n",
    "s_x_2 = s_x[2:]\n",
    "s_y_2 = s_y[2:]\n",
    "\n",
    "v_x_1 = v_x[1:-1]\n",
    "v_y_1 = v_y[1:-1]\n",
    "v_x_2 = v_x[2:]\n",
    "v_y_2 = v_y[2:]\n",
    "\n",
    "a_x_0 = a_x[:-2]\n",
    "a_y_0 = a_y[:-2]\n",
    "a_x_1 = a_x[1:-1]\n",
    "a_y_1 = a_y[1:-1]\n"
   ]
  },
  {
   "cell_type": "markdown",
   "metadata": {},
   "source": [
    "## Training our linear model"
   ]
  },
  {
   "cell_type": "markdown",
   "metadata": {},
   "source": [
    "We want to solve our Distance Model:\n",
    "\n",
    "\\begin{align} \n",
    "    \\begin{bmatrix}\n",
    "        a_x(k) \\\\ \n",
    "        a_y(k)       \n",
    "    \\end{bmatrix}_{\\text{dis}}\n",
    "    =\n",
    "    \\begin{bmatrix}\n",
    "       s_x(k) - s_x(k+1) - v_x(k) & -a_x(k-1) \\\\ \n",
    "       s_y(k) - s_y(k+1) - v_y(k) & -a_y(k-1)   \n",
    "    \\end{bmatrix}\n",
    "    \\begin{bmatrix}\n",
    "        \\overline{c}_1 \\\\\n",
    "        \\overline{c}_2 \\\\\n",
    "   \\end{bmatrix}\n",
    "\\end{align}\n",
    "\n",
    "\n",
    "The accleration vector on the left will be our target vector 'y' and the right side of the model is the matrix 'X_distance_model'"
   ]
  },
  {
   "cell_type": "code",
   "execution_count": null,
   "metadata": {},
   "outputs": [],
   "source": [
    "# Target vector \n",
    "y = np.concatenate([a_x_1, a_y_1])  \n",
    "y.shape\n",
    "\n",
    "# matrix distance model\n",
    "A = s_x_2 - s_x_1 - v_x_1        \n",
    "B = s_y_2 - s_y_1 - v_y_1        \n",
    "C = - a_x_0                                 \n",
    "D = - a_y_0                                 \n",
    "\n",
    "X_distance_model = np.vstack((\n",
    "    np.column_stack((A, C)), \n",
    "    np.column_stack((B, D))\n",
    "))\n"
   ]
  },
  {
   "cell_type": "markdown",
   "metadata": {},
   "source": [
    "\n",
    "Similarly we define the matrix on the right hand side of the equation of the velocity model:\n",
    "\n",
    "\\begin{align} \n",
    "    \\begin{bmatrix}\n",
    "        a_x(k) \\\\ \n",
    "        a_y(k) \n",
    "    \\end{bmatrix}_{\\text{vel}}\n",
    "    =\n",
    "    \\begin{bmatrix}\n",
    "        v_x(k) - v_x(k+1) & -a_x(k+1)    \\\\ \n",
    "        v_y(k) - v_y(k+1) & -a_y(k+1)    \\\\\n",
    "    \\end{bmatrix}\n",
    "    \\begin{bmatrix}\n",
    "        \\overline{c}_3 \\\\\n",
    "        \\overline{c}_4 \\\\\n",
    "   \\end{bmatrix}\n",
    "\\end{align}\n",
    "\n",
    "Note that the acceleration vector on the left is the same as above. This is done specifically so our models are trained such that both models have the same acceleration output!"
   ]
  },
  {
   "cell_type": "code",
   "execution_count": null,
   "metadata": {},
   "outputs": [],
   "source": [
    "# matrix velocity model\n",
    "A = v_x_2 - v_x_1        \n",
    "B = v_y_2 - v_y_1        \n",
    "C = - a_x_0\n",
    "D = - a_y_0\n",
    "\n",
    "X_velocity_model = np.vstack((\n",
    "    np.column_stack((A, C)),\n",
    "    np.column_stack((B, D))\n",
    "))\n"
   ]
  },
  {
   "cell_type": "markdown",
   "metadata": {},
   "source": [
    "Now we can train our models and evaluate them on a test set that we create. \n",
    "\n",
    "Have a look into the perform_linear_regression() function"
   ]
  },
  {
   "cell_type": "code",
   "execution_count": null,
   "metadata": {},
   "outputs": [],
   "source": [
    "# Train both models\n",
    "velocity_model = perform_linear_regression(X_velocity_model, y, 'Prediction Acceleration (Linear Model, Velocity)')\n",
    "\n",
    "distance_model = perform_linear_regression(X_distance_model, y, 'Prediction Acceleration (Linear Model, Distance)')\n"
   ]
  },
  {
   "cell_type": "markdown",
   "metadata": {},
   "source": [
    "Now we can see test how the model perform in their prediction"
   ]
  },
  {
   "cell_type": "code",
   "execution_count": null,
   "metadata": {},
   "outputs": [],
   "source": [
    "# Predict the acceleration for both models\n",
    "y_pred_distance_model =  distance_model.predict(X_distance_model)\n",
    "y_pred_velocity_model =  velocity_model.predict(X_velocity_model)\n"
   ]
  },
  {
   "cell_type": "markdown",
   "metadata": {},
   "source": [
    "Here we test how equal their results are"
   ]
  },
  {
   "cell_type": "code",
   "execution_count": null,
   "metadata": {},
   "outputs": [],
   "source": [
    "\n",
    "# Evaluate the equvialence of the predicted accelerations\n",
    "evaluate_and_save( y_pred_distance_model, y_pred_velocity_model, 'Acceleration Equivalence (Linear Model)', 'Acceleration (Distance Formula)', 'Acceleration (Velocity Formula)')\n"
   ]
  },
  {
   "cell_type": "markdown",
   "metadata": {},
   "source": [
    "## Rearrange the models"
   ]
  },
  {
   "cell_type": "markdown",
   "metadata": {},
   "source": [
    "Now we rearrange our model such that the distance and velocity are on the left:\n",
    "\n",
    "\\begin{align} \n",
    "    s(k+1) &= s(k) + v(k) + c_1 a_{dis}(k) + c_2 a(k-1) \\\\\n",
    "    v(k+1) &= v(k)        + c_3 a_{vel}(k) + c_4 a(k-1)\n",
    "\\end{align}\n",
    "\n",
    "To solve this we have to recalculate the coefficients we got from our training:\n",
    "\n",
    "\\begin{align}\n",
    "   c_1 &= \\frac{1}{\\bar{c}_1} \\\\\n",
    "   c_2 &= \\bar{c}_2 \\cdot c_1 \\\\\n",
    "   c_3 &= \\frac{1}{\\bar{c}_3} \\\\\n",
    "   c_4 &= \\bar{c}_4 \\cdot c_3\n",
    "\\end{align}\n",
    "\n",
    "This is done in the following:"
   ]
  },
  {
   "cell_type": "code",
   "execution_count": null,
   "metadata": {},
   "outputs": [],
   "source": [
    "# Extracting coefficients from the models\n",
    "c_1_overline = distance_model.coef_[0]\n",
    "c_2_overline = distance_model.coef_[1]\n",
    "c_3_overline = velocity_model.coef_[0]\n",
    "c_4_overline = velocity_model.coef_[1]\n",
    "\n",
    "# Recalculate them\n",
    "c_1 = 1 / c_1_overline\n",
    "c_2 = c_2_overline * c_1\n",
    "c_3 = 1 / c_3_overline\n",
    "c_4 = c_4_overline * c_3\n"
   ]
  },
  {
   "cell_type": "markdown",
   "metadata": {},
   "source": []
  },
  {
   "cell_type": "code",
   "execution_count": null,
   "metadata": {},
   "outputs": [],
   "source": [
    "# Prediction using the distance model\n",
    "a_xy_1_pred_distance_model = distance_model.predict(X_distance_model)\n",
    "\n",
    "# Splitting the predictions for x and y components\n",
    "half = int(len(a_xy_1_pred_distance_model) / 2)\n",
    "a_x_1_pred_dist = a_xy_1_pred_distance_model[:half]\n",
    "a_y_1_pred_dist = a_xy_1_pred_distance_model[half:]\n",
    "\n",
    "# Prediction using the velocity model\n",
    "a_xy_1_pred_velocity_model = velocity_model.predict(X_velocity_model)\n",
    "\n",
    "# Splitting the predictions for x and y components\n",
    "half = int(len(a_xy_1_pred_velocity_model) / 2)\n",
    "a_x_1_pred_vel = a_xy_1_pred_velocity_model[:half]\n",
    "a_y_1_pred_vel = a_xy_1_pred_velocity_model[half:]\n",
    "\n"
   ]
  },
  {
   "cell_type": "markdown",
   "metadata": {},
   "source": [
    "Now we can put everything into our distance formula. In matrix form it looks like this:\n",
    "\n",
    "\\begin{align}\n",
    "    \\begin{bmatrix} s_x(k+1) \\\\ s_y(k+1) \\end{bmatrix}\n",
    "    =\n",
    "    \\begin{bmatrix} a_x(k) & a_x(k-1)    \\\\ a_y(k) & a_y(k-1)    \\\\ \\end{bmatrix}\n",
    "    \\begin{bmatrix} c_1 \\\\ c_2 \\\\ \\end{bmatrix}\n",
    "    +\n",
    "    \\begin{bmatrix} s_x(k) + v_x(k) \\\\ s_y(k) + v_y(k) \\\\ \\end{bmatrix}\n",
    "\\end{align} \n",
    "\n"
   ]
  },
  {
   "cell_type": "code",
   "execution_count": null,
   "metadata": {},
   "outputs": [],
   "source": [
    "\n",
    "# Distance formula \n",
    "s_x_2_pred = s_x_1 + v_x_1 + c_1 * a_x_1_pred_dist + c_2 * a_x_0\n",
    "s_y_2_pred = s_y_1 + v_y_1 + c_1 * a_y_1_pred_dist + c_2 * a_y_0\n",
    "\n",
    "# Concate results for easier usage later\n",
    "s_xy_2 = np.concatenate((s_x_2, s_y_2))\n",
    "s_xy_2_pred = np.concatenate((s_x_2_pred, s_y_2_pred))\n"
   ]
  },
  {
   "cell_type": "markdown",
   "metadata": {},
   "source": [
    "The same can be done using our velocity formula:\n",
    "\\begin{align}\n",
    "    \\begin{bmatrix} v_x(k+1) \\\\ v_y(k+1) \\end{bmatrix}\n",
    "    =\n",
    "    \\begin{bmatrix} a_x(k) & a_x(k-1)    \\\\ a_y(k) & a_y(k-1)    \\\\ \\end{bmatrix}\n",
    "    \\begin{bmatrix} c_3 \\\\ c_4 \\\\ \\end{bmatrix}\n",
    "    +\n",
    "    \\begin{bmatrix} v_x(k) \\\\ v_y(k) \\end{bmatrix}\n",
    "\\end{align}\n",
    "\n"
   ]
  },
  {
   "cell_type": "code",
   "execution_count": null,
   "metadata": {},
   "outputs": [],
   "source": [
    "# Predicting velocity for the next time step\n",
    "v_x_2_pred = v_x_1 + c_3 * a_x_1_pred_vel + c_4 * a_x_0\n",
    "v_y_2_pred = v_y_1 + c_3 * a_y_1_pred_vel + c_4 * a_y_0\n",
    "\n",
    "# Concate results for easier usage later\n",
    "v_xy_2 = np.concatenate((v_x_2, v_y_2))\n",
    "v_xy_2_pred = np.concatenate((v_x_2_pred, v_y_2_pred))\n"
   ]
  },
  {
   "cell_type": "markdown",
   "metadata": {},
   "source": [
    "Now we can evalute our results"
   ]
  },
  {
   "cell_type": "code",
   "execution_count": null,
   "metadata": {},
   "outputs": [],
   "source": [
    "\n",
    "# Evaluating the predictions\n",
    "evaluate_and_save(s_xy_2, s_xy_2_pred, 'Prediction Distance using the coefficients', xlabel='Distance ground truth', ylabel='Distance predicted')\n",
    "evaluate_and_save(v_xy_2, v_xy_2_pred, 'Prediction Velocity using the coefficients', xlabel='Velocity ground truth', ylabel='Velocity predicted')\n"
   ]
  }
 ],
 "metadata": {
  "kernelspec": {
   "display_name": "social_ai_lin_reg",
   "language": "python",
   "name": "python3"
  },
  "language_info": {
   "codemirror_mode": {
    "name": "ipython",
    "version": 3
   },
   "file_extension": ".py",
   "mimetype": "text/x-python",
   "name": "python",
   "nbconvert_exporter": "python",
   "pygments_lexer": "ipython3",
   "version": "3.11.5"
  }
 },
 "nbformat": 4,
 "nbformat_minor": 2
}
