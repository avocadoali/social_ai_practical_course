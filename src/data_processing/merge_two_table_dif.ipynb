{
 "cells": [
  {
   "cell_type": "code",
   "execution_count": 1,
   "metadata": {},
   "outputs": [],
   "source": [
    "import pandas as pd\n",
    "\n",
    "\n",
    "# Assuming your files are in CSV format\n",
    "file1 = '/home/ali/tum/motion_planning/social_ai_practical_course/data/processed/scenario_samples/test_set/lane_merging_test_00.csv'\n",
    "file2 = '/home/ali/tum/motion_planning/social_ai_practical_course/data/processed/scenario_samples/test_set/lane_merging_test_01.csv'\n",
    "\n",
    "# Load the two CSV files into dataframes\n",
    "df1 = pd.read_csv(file1)\n",
    "df2 = pd.read_csv(file2)\n",
    "\n",
    "# Calculate the differences for each column\n",
    "df_diff = df1 - df2\n",
    "\n",
    "\n",
    "# Add the acceleration columns to the merged dataframe\n",
    "df_diff['xAcceleration_a'] = df2['xAcceleration']\n",
    "df_diff['yAcceleration_a'] = df2['yAcceleration']\n",
    "df_diff['xVelocity_a'] = df2['xVelocity']\n",
    "df_diff['yVelocity_a'] = df2['yVelocity']\n",
    "df_diff['xCenter_a'] = df2['xCenter']\n",
    "df_diff['yCenter_a'] = df2['yCenter']\n",
    "df_diff['xAcceleration_b'] = df1['xAcceleration']\n",
    "df_diff['yAcceleration_b'] = df1['yAcceleration']\n",
    "df_diff['xVelocity_b'] = df2['xVelocity']\n",
    "df_diff['yVelocity_b'] = df2['yVelocity']\n",
    "df_diff['xCenter_b'] = df2['xCenter']\n",
    "df_diff['yCenter_b'] = df2['yCenter']\n",
    "\n",
    "\n",
    "# Save the merged dataframe with differences to a new CSV file\n",
    "df_diff.to_csv('/home/ali/tum/motion_planning/social_ai_practical_course/data/processed/scenario_samples/test_set/lane_merging_merged_dif_test.csv', index=False)\n"
   ]
  },
  {
   "cell_type": "code",
   "execution_count": null,
   "metadata": {},
   "outputs": [],
   "source": []
  }
 ],
 "metadata": {
  "kernelspec": {
   "display_name": "social_ai_lin_reg",
   "language": "python",
   "name": "python3"
  },
  "language_info": {
   "codemirror_mode": {
    "name": "ipython",
    "version": 3
   },
   "file_extension": ".py",
   "mimetype": "text/x-python",
   "name": "python",
   "nbconvert_exporter": "python",
   "pygments_lexer": "ipython3",
   "version": "3.11.5"
  }
 },
 "nbformat": 4,
 "nbformat_minor": 2
}
