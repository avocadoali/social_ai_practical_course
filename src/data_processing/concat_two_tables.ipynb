{
 "cells": [
  {
   "cell_type": "code",
   "execution_count": 2,
   "metadata": {},
   "outputs": [],
   "source": [
    "\n",
    "import os\n",
    "os.chdir('../..')"
   ]
  },
  {
   "cell_type": "code",
   "execution_count": 3,
   "metadata": {},
   "outputs": [
    {
     "data": {
      "text/plain": [
       "'/home/ali/tum/motion_planning/social_ai_practical_course'"
      ]
     },
     "execution_count": 3,
     "metadata": {},
     "output_type": "execute_result"
    }
   ],
   "source": [
    "import os\n",
    "import pandas as pd\n",
    "\n",
    "os.getcwd()\n"
   ]
  },
  {
   "cell_type": "markdown",
   "metadata": {},
   "source": [
    "Here we concate two table to each other"
   ]
  },
  {
   "cell_type": "code",
   "execution_count": 4,
   "metadata": {},
   "outputs": [],
   "source": [
    "# Read the CSV files into two dataframes\n",
    "df1 = pd.read_csv('data/raw/baris_two_cars/current_car_data.csv')\n",
    "df2 = pd.read_csv('data/raw/baris_two_cars/other_car_data.csv')\n"
   ]
  },
  {
   "cell_type": "code",
   "execution_count": 5,
   "metadata": {},
   "outputs": [],
   "source": [
    "\n",
    "# Rename the columns for clarity\n",
    "df1 = df1.rename(columns={\n",
    "        'RecordingId': 'RecordingId_a',\n",
    "                'TrackId': 'TrackId_a',\n",
    "                    'Frame': 'Frame_a',\n",
    "              'Distance': 'Distance_a',\n",
    "            'XVelocity': 'xVelocity_a',\n",
    "            'YVelocity': 'yVelocity_a',\n",
    "    'XAcceleration': 'xAcceleration_a',\n",
    "    'YAcceleration': 'yAcceleration_a',\n",
    "                'XCenter': 'xCenter_a',\n",
    "                'YCenter': 'yCenter_a'\n",
    "})\n",
    "\n",
    "df2 = df2.rename(columns={\n",
    "        'RecordingId': 'RecordingId_b',\n",
    "                'TrackId': 'TrackId_b',\n",
    "                    'Frame': 'Frame_b',\n",
    "              'Distance': 'Distance_b',\n",
    "            'XVelocity': 'xVelocity_b',\n",
    "            'YVelocity': 'yVelocity_b',\n",
    "    'XAcceleration': 'xAcceleration_b',\n",
    "    'YAcceleration': 'yAcceleration_b',\n",
    "                'XCenter': 'xCenter_b',\n",
    "                'YCenter': 'yCenter_b'\n",
    "})\n",
    "\n",
    "# Concatenate the two dataframes along the columns axis\n",
    "result_df = pd.concat([df1, df2], axis=1)\n",
    "\n",
    "# Save the concatenated dataframe to a new CSV file\n",
    "result_df.to_csv('data/processed/scenario_samples/lane_merging/concated_set/test_set_00.csv', index=False)\n",
    "\n"
   ]
  },
  {
   "cell_type": "code",
   "execution_count": 6,
   "metadata": {},
   "outputs": [],
   "source": [
    "merged_df = pd.read_csv('data/processed/scenario_samples/lane_merging/concated_set/test_set_00.csv')"
   ]
  },
  {
   "cell_type": "code",
   "execution_count": 7,
   "metadata": {},
   "outputs": [
    {
     "data": {
      "text/html": [
       "<div>\n",
       "<style scoped>\n",
       "    .dataframe tbody tr th:only-of-type {\n",
       "        vertical-align: middle;\n",
       "    }\n",
       "\n",
       "    .dataframe tbody tr th {\n",
       "        vertical-align: top;\n",
       "    }\n",
       "\n",
       "    .dataframe thead th {\n",
       "        text-align: right;\n",
       "    }\n",
       "</style>\n",
       "<table border=\"1\" class=\"dataframe\">\n",
       "  <thead>\n",
       "    <tr style=\"text-align: right;\">\n",
       "      <th></th>\n",
       "      <th>xVelocity</th>\n",
       "      <th>yVelocity</th>\n",
       "      <th>xAcceleration</th>\n",
       "      <th>yAcceleration</th>\n",
       "      <th>xCenter</th>\n",
       "      <th>yCenter</th>\n",
       "    </tr>\n",
       "  </thead>\n",
       "  <tbody>\n",
       "    <tr>\n",
       "      <th>0</th>\n",
       "      <td>-1.9241</td>\n",
       "      <td>2.3865</td>\n",
       "      <td>-0.1966</td>\n",
       "      <td>0.3753</td>\n",
       "      <td>-23.2716</td>\n",
       "      <td>30.6652</td>\n",
       "    </tr>\n",
       "    <tr>\n",
       "      <th>1</th>\n",
       "      <td>-1.9472</td>\n",
       "      <td>2.4197</td>\n",
       "      <td>-0.1916</td>\n",
       "      <td>0.3700</td>\n",
       "      <td>-24.1665</td>\n",
       "      <td>31.8226</td>\n",
       "    </tr>\n",
       "    <tr>\n",
       "      <th>2</th>\n",
       "      <td>-1.9702</td>\n",
       "      <td>2.4531</td>\n",
       "      <td>-0.1852</td>\n",
       "      <td>0.3631</td>\n",
       "      <td>-25.0624</td>\n",
       "      <td>32.9813</td>\n",
       "    </tr>\n",
       "    <tr>\n",
       "      <th>3</th>\n",
       "      <td>-1.9931</td>\n",
       "      <td>2.4865</td>\n",
       "      <td>-0.1775</td>\n",
       "      <td>0.3544</td>\n",
       "      <td>-25.9595</td>\n",
       "      <td>34.1415</td>\n",
       "    </tr>\n",
       "    <tr>\n",
       "      <th>4</th>\n",
       "      <td>-2.0157</td>\n",
       "      <td>2.5198</td>\n",
       "      <td>-0.1683</td>\n",
       "      <td>0.3439</td>\n",
       "      <td>-26.8575</td>\n",
       "      <td>35.3030</td>\n",
       "    </tr>\n",
       "  </tbody>\n",
       "</table>\n",
       "</div>"
      ],
      "text/plain": [
       "   xVelocity  yVelocity  xAcceleration  yAcceleration  xCenter  yCenter\n",
       "0    -1.9241     2.3865        -0.1966         0.3753 -23.2716  30.6652\n",
       "1    -1.9472     2.4197        -0.1916         0.3700 -24.1665  31.8226\n",
       "2    -1.9702     2.4531        -0.1852         0.3631 -25.0624  32.9813\n",
       "3    -1.9931     2.4865        -0.1775         0.3544 -25.9595  34.1415\n",
       "4    -2.0157     2.5198        -0.1683         0.3439 -26.8575  35.3030"
      ]
     },
     "execution_count": 7,
     "metadata": {},
     "output_type": "execute_result"
    }
   ],
   "source": [
    "# Extract common column names\n",
    "common_columns = ['xVelocity', 'yVelocity', 'xAcceleration', 'yAcceleration', 'xCenter', 'yCenter']\n",
    "\n",
    "# Calculate the differences\n",
    "df_diff = pd.DataFrame()\n",
    "for column in common_columns:\n",
    "    col_this = f\"{column}_a\"\n",
    "    col_other = f\"{column}_b\"\n",
    "    df_diff[f\"{column}\"] = merged_df[col_this] - merged_df[col_other]\n",
    "\n",
    "# Display the resulting dataframe with differences\n",
    "df_diff.head()\n"
   ]
  },
  {
   "cell_type": "code",
   "execution_count": 8,
   "metadata": {},
   "outputs": [],
   "source": [
    "# Concatenate the two dataframes along the columns axis\n",
    "result_df = pd.concat([df_diff, merged_df], axis=1)\n",
    "\n",
    "# Save the concatenated dataframe to a new CSV file\n",
    "result_df.to_csv('data/processed/scenario_samples/lane_merging/dif_set/test_set_00.csv', index=False)\n",
    "\n"
   ]
  },
  {
   "cell_type": "code",
   "execution_count": null,
   "metadata": {},
   "outputs": [],
   "source": []
  },
  {
   "cell_type": "code",
   "execution_count": null,
   "metadata": {},
   "outputs": [],
   "source": []
  },
  {
   "cell_type": "code",
   "execution_count": null,
   "metadata": {},
   "outputs": [],
   "source": []
  },
  {
   "cell_type": "code",
   "execution_count": null,
   "metadata": {},
   "outputs": [],
   "source": []
  },
  {
   "cell_type": "code",
   "execution_count": null,
   "metadata": {},
   "outputs": [],
   "source": []
  }
 ],
 "metadata": {
  "kernelspec": {
   "display_name": "social_ai_lin_reg",
   "language": "python",
   "name": "python3"
  },
  "language_info": {
   "codemirror_mode": {
    "name": "ipython",
    "version": 3
   },
   "file_extension": ".py",
   "mimetype": "text/x-python",
   "name": "python",
   "nbconvert_exporter": "python",
   "pygments_lexer": "ipython3",
   "version": "3.11.5"
  }
 },
 "nbformat": 4,
 "nbformat_minor": 2
}
