{
 "cells": [
  {
   "cell_type": "code",
   "execution_count": 1,
   "metadata": {},
   "outputs": [],
   "source": [
    "import os\n",
    "import pandas as pd\n",
    "import numpy as np\n",
    "\n",
    "from loguru import logger\n",
    "from tracks_import import read_from_csv\n",
    "\n",
    "from config.settings import raw_data_path_ind, processed_data_inD, processed_data_exiD,ROOT_DIR\n",
    "\n",
    "def process_data(dataset_dir_raw, dataset_dir_processed, recording):\n",
    "    # Check if the directory exists\n",
    "    if not os.path.isdir(dataset_dir_raw):\n",
    "        print(dataset_dir_raw)\n",
    "        raise Exception(\"Directory does not exist\")\n",
    "\n",
    "    # Create paths to csv files\n",
    "    tracks_file = os.path.join(dataset_dir_raw, recording + \"_tracks.csv\")\n",
    "    tracks_meta_file = os.path.join(dataset_dir_raw, recording + \"_tracksMeta.csv\")\n",
    "    recording_meta_file = os.path.join(dataset_dir_raw, recording + \"_recordingMeta.csv\")\n",
    "\n",
    "    # Check if the files exist\n",
    "    if not all(os.path.isfile(file) for file in [tracks_file, tracks_meta_file, recording_meta_file]):\n",
    "        raise Exception(\"One or more files do not exist\")\n",
    "\n",
    "    # Load csv files\n",
    "    logger.info(\"Loading csv files {}, {} and {}\", tracks_file, tracks_meta_file, recording_meta_file)\n",
    "    tracks, static_info, meta_info = read_from_csv(tracks_file, tracks_meta_file, recording_meta_file,\n",
    "                                                   include_px_coordinates=True)\n",
    "    df_tracks = pd.DataFrame(tracks)\n",
    "    df_static_info = pd.DataFrame(static_info)\n",
    "    df_meta_info = pd.DataFrame(meta_info.items())\n",
    "    #display(df_tracks)\n",
    "\n",
    "    n = len(df_tracks)\n",
    "\n",
    "    track_ids = list(range(n))  \n",
    "\n",
    "    selected_tracks = df_tracks[df_tracks['trackId'].isin(track_ids)]\n",
    "\n",
    "    # Change the position to the distance by subtracting the starting position from the position lists\n",
    "    #selected_tracks.loc[:, 'xCenter'] = selected_tracks['xCenter'].apply(lambda num: [x - num[0] for x in num[:]])\n",
    "    #selected_tracks.loc[:, 'yCenter'] = selected_tracks['yCenter'].apply(lambda num: [x - num[0] for x in num[:]])\n",
    "\n",
    "    # Select distance, velocity, and acceleration columns\n",
    "    columns_to_select = ['xCenter', 'yCenter', 'xVelocity', 'yVelocity', 'xAcceleration', 'yAcceleration']\n",
    "    selected_data = selected_tracks[columns_to_select]\n",
    "\n",
    "    # Unstack the selected_data DataFrame to flatten the lists in the 'xCenter', 'yCenter', etc. columns\n",
    "    selected_data_unstacked = selected_data.apply(lambda x: np.concatenate(x.values))\n",
    "\n",
    "    # Create a new DataFrame\n",
    "    new_dataframe = pd.DataFrame(selected_data_unstacked)\n",
    "    #display(new_dataframe)\n",
    "\n",
    "    file_name = f'x_y_recording_{recording}_range_{n}.csv'\n",
    "    output_file_path = os.path.join(dataset_dir_processed, file_name)\n",
    "\n",
    "    # Save the new_dataframe as a CSV file in the data/processed directory\n",
    "    new_dataframe.to_csv(output_file_path, index=False)\n"
   ]
  },
  {
   "cell_type": "code",
   "execution_count": 2,
   "metadata": {},
   "outputs": [
    {
     "ename": "Exception",
     "evalue": "One or more files do not exist",
     "output_type": "error",
     "traceback": [
      "\u001b[0;31m---------------------------------------------------------------------------\u001b[0m",
      "\u001b[0;31mException\u001b[0m                                 Traceback (most recent call last)",
      "Cell \u001b[0;32mIn[2], line 8\u001b[0m\n\u001b[1;32m      5\u001b[0m raw_data \u001b[38;5;241m=\u001b[39m os\u001b[38;5;241m.\u001b[39mpath\u001b[38;5;241m.\u001b[39mjoin(ROOT_DIR, raw_data_path_ind)\n\u001b[1;32m      6\u001b[0m processed_data_path \u001b[38;5;241m=\u001b[39m processed_data_inD\n\u001b[0;32m----> 8\u001b[0m \u001b[43mprocess_data\u001b[49m\u001b[43m(\u001b[49m\u001b[43mraw_data\u001b[49m\u001b[43m,\u001b[49m\u001b[43m \u001b[49m\u001b[38;5;28;43mstr\u001b[39;49m\u001b[43m(\u001b[49m\u001b[43mrecording\u001b[49m\u001b[43m)\u001b[49m\u001b[43m,\u001b[49m\u001b[43m \u001b[49m\u001b[43mprocessed_data_path\u001b[49m\u001b[43m)\u001b[49m\n",
      "Cell \u001b[0;32mIn[1], line 23\u001b[0m, in \u001b[0;36mprocess_data\u001b[0;34m(dataset_dir_raw, dataset_dir_processed, recording)\u001b[0m\n\u001b[1;32m     21\u001b[0m \u001b[38;5;66;03m# Check if the files exist\u001b[39;00m\n\u001b[1;32m     22\u001b[0m \u001b[38;5;28;01mif\u001b[39;00m \u001b[38;5;129;01mnot\u001b[39;00m \u001b[38;5;28mall\u001b[39m(os\u001b[38;5;241m.\u001b[39mpath\u001b[38;5;241m.\u001b[39misfile(file) \u001b[38;5;28;01mfor\u001b[39;00m file \u001b[38;5;129;01min\u001b[39;00m [tracks_file, tracks_meta_file, recording_meta_file]):\n\u001b[0;32m---> 23\u001b[0m     \u001b[38;5;28;01mraise\u001b[39;00m \u001b[38;5;167;01mException\u001b[39;00m(\u001b[38;5;124m\"\u001b[39m\u001b[38;5;124mOne or more files do not exist\u001b[39m\u001b[38;5;124m\"\u001b[39m)\n\u001b[1;32m     25\u001b[0m \u001b[38;5;66;03m# Load csv files\u001b[39;00m\n\u001b[1;32m     26\u001b[0m logger\u001b[38;5;241m.\u001b[39minfo(\u001b[38;5;124m\"\u001b[39m\u001b[38;5;124mLoading csv files \u001b[39m\u001b[38;5;132;01m{}\u001b[39;00m\u001b[38;5;124m, \u001b[39m\u001b[38;5;132;01m{}\u001b[39;00m\u001b[38;5;124m and \u001b[39m\u001b[38;5;132;01m{}\u001b[39;00m\u001b[38;5;124m\"\u001b[39m, tracks_file, tracks_meta_file, recording_meta_file)\n",
      "\u001b[0;31mException\u001b[0m: One or more files do not exist"
     ]
    }
   ],
   "source": [
    "# Example usage for ind data and getting all recordings\n",
    "for i in range(34):\n",
    "    # TODO fix this absolut path relation using ROOT_DIR\n",
    "    recording = str(i).zfill(2)\n",
    "    raw_data = os.path.join(ROOT_DIR, raw_data_path_ind)\n",
    "    processed_data_path = processed_data_inD\n",
    "\n",
    "    process_data(raw_data, str(recording), processed_data_path)\n",
    "\n",
    "\n"
   ]
  },
  {
   "cell_type": "code",
   "execution_count": null,
   "metadata": {},
   "outputs": [],
   "source": []
  }
 ],
 "metadata": {
  "kernelspec": {
   "display_name": "social_ai_lin_reg",
   "language": "python",
   "name": "python3"
  },
  "language_info": {
   "codemirror_mode": {
    "name": "ipython",
    "version": 3
   },
   "file_extension": ".py",
   "mimetype": "text/x-python",
   "name": "python",
   "nbconvert_exporter": "python",
   "pygments_lexer": "ipython3",
   "version": "3.11.5"
  }
 },
 "nbformat": 4,
 "nbformat_minor": 2
}
