{
 "cells": [
  {
   "cell_type": "code",
   "execution_count": 2,
   "metadata": {},
   "outputs": [],
   "source": [
    "a = [\n",
    "\n",
    "    {(3, 5): [(29, 3, 5, 0, 31.39463360400946, 18.4352, -24.7807, 15.7356, -20.2262, 0.4189, -0.222, 0.2167, -0.4102)]} , \n",
    "\n",
    "    {(7, 8): [(29, 7, 8, 39, 49.90905749961625, -21.2595, 27.94, -17.8082, 24.3035, -0.0999, 0.1272, -0.214, -0.1021)]}, \n",
    "\n",
    "    {(8, 10): [(29, 8, 10, 49, 37.45252893196932, -17.8951, 24.2453, -15.0126, 19.7513, -0.1917, -0.1347, 0.0994, -0.0782)]}\n",
    "    \n",
    "    ]\n"
   ]
  },
  {
   "cell_type": "code",
   "execution_count": null,
   "metadata": {},
   "outputs": [],
   "source": [
    "xCenter,yCenter,xVelocity,yVelocity,xAcceleration,yAcceleration\n",
    "0.0,0.0,-1.20819,-9.06651,-0.01047,0.52307\n",
    "-0.04688999999999055,-0.3561300000000003,-1.20844,-9.06017,-0.01211,0.5597\n",
    "-0.09698000000000206,-0.7190599999999989,-1.20806,-9.05198,-0.01427,0.61071\n",
    "-"
   ]
  },
  {
   "cell_type": "code",
   "execution_count": null,
   "metadata": {},
   "outputs": [],
   "source": [
    "\n",
    "c_1 a[x] = s_[x] * s"
   ]
  }
 ],
 "metadata": {
  "kernelspec": {
   "display_name": "social_ai_lin_reg",
   "language": "python",
   "name": "python3"
  },
  "language_info": {
   "codemirror_mode": {
    "name": "ipython",
    "version": 3
   },
   "file_extension": ".py",
   "mimetype": "text/x-python",
   "name": "python",
   "nbconvert_exporter": "python",
   "pygments_lexer": "ipython3",
   "version": "3.11.5"
  }
 },
 "nbformat": 4,
 "nbformat_minor": 2
}
