{
 "cells": [
  {
   "cell_type": "code",
   "execution_count": 3,
   "metadata": {},
   "outputs": [],
   "source": [
    "import os\n",
    "os.chdir('..')"
   ]
  },
  {
   "cell_type": "code",
   "execution_count": 11,
   "metadata": {},
   "outputs": [
    {
     "data": {
      "text/plain": [
       "'/home/ali/tum/motion_planning/social_ai_practical_course'"
      ]
     },
     "execution_count": 11,
     "metadata": {},
     "output_type": "execute_result"
    }
   ],
   "source": [
    "import pandas as pd\n",
    "import shutil\n",
    "import os\n",
    "import yaml\n",
    "from src.modeling.acceleration_model_4 import predicted_columns\n",
    "\n",
    "os.getcwd()\n",
    "\n",
    "# Read the YAML configuration file\n",
    "with open('config/config.yaml', 'r') as config_file:\n",
    "    config = yaml.safe_load(config_file)['visualisation']\n",
    "\n",
    "\n",
    "# Store variables accordingly\n",
    "base_raw_path = config['base_raw_path']\n",
    "base_processed_path = config['base_processed_path']\n",
    "tracks_number = config['tracks_number']\n",
    "tracks_meta_number = config['tracks_meta_number']\n",
    "recording_meat_number = config['recording_meat_number']\n",
    "background_number = config['background_number']\n",
    "track_ids = config['track_ids']\n",
    "\n",
    "# Example usage\n",
    "print(\"Base raw path:\", base_raw_path)\n",
    "print(\"Base processed path:\", base_processed_path)\n",
    "print(\"Tracks number:\", tracks_number)\n",
    "print(\"Tracks meta number:\", tracks_meta_number)\n",
    "print(\"Recording meat number:\", recording_meat_number)\n",
    "print(\"Background number:\", background_number)\n",
    "print(\"Track IDs:\", track_ids)\n",
    "# Define specific paths\n",
    "raw_track_path = os.path.join(base_raw_path, tracks_number)\n",
    "background_path = os.path.join(base_raw_path, background_number)\n",
    "recording_meta_path = os.path.join(base_raw_path, recording_meat_number)\n",
    "ground_truth_path = os.path.join(base_processed_path, 'ground_truth/')\n",
    "predicted_path = os.path.join(base_processed_path, 'predicted')\n",
    "\n",
    "\n",
    "# Read raw track data and filter by track ID\n",
    "df = pd.read_csv(raw_track_path)\n",
    "track_one_car = df[df['trackId'].isin(track_ids)]\n",
    "\n",
    "# Define paths for ground truth data\n",
    "tracks_ground_truth_path = os.path.join(ground_truth_path, tracks_number)\n",
    "tracks_meta_ground_truth_path = os.path.join(ground_truth_path, tracks_meta_number)\n",
    "\n",
    "# Save filtered track data and corresponding metadata\n",
    "track_one_car.to_csv(tracks_ground_truth_path, index=False)\n",
    "\n",
    "tracks_meta = pd.read_csv(os.path.join(base_raw_path, tracks_meta_number))\n",
    "tracks_meta_one_car = tracks_meta[tracks_meta['trackId'].isin(track_ids)]\n",
    "tracks_meta_one_car.to_csv(tracks_meta_ground_truth_path, index=False)\n",
    "\n",
    "# Copy background and recording meta to ground truth and predicted paths\n",
    "for path in [background_path, recording_meta_path]:\n",
    "    shutil.copy(path, ground_truth_path)\n",
    "    shutil.copy(path, predicted_path)\n",
    "\n",
    "# Copy tracks metadata from ground truth to predicted path\n",
    "shutil.copy(tracks_meta_ground_truth_path, os.path.join(predicted_path, tracks_meta_number))\n",
    "\n",
    "# Get the needed columns for the predicition\n",
    "\n",
    "def get_columns(file_dir):\n",
    "    print(file_dir)\n",
    "    df = pd.read_csv(file_dir)\n",
    "\n",
    "    # get the columns\n",
    "    s_x = df['xCenter'].values\n",
    "    s_y = df['yCenter'].values\n",
    "    v_x = df['xVelocity'].values\n",
    "    v_y = df['yVelocity'].values\n",
    "    a_x = df['xAcceleration'].values\n",
    "    a_y = df['yAcceleration'].values\n",
    "\n",
    "    return s_x , s_y , v_x , v_y , a_x , a_y\n",
    "\n",
    "\n",
    "\n",
    "columns = get_columns(tracks_ground_truth_path)\n",
    "\n",
    "\n",
    "# Predict the dataset\n",
    "result = predicted_columns(columns)\n",
    "df = pd.read_csv(tracks_ground_truth_path)\n",
    "df_new = df.iloc[:-2].copy()\n",
    "df_new['xCenter']   = result['s_x'].tolist()\n",
    "df_new['yCenter']   = result['s_y'].tolist()\n",
    "df_new['xVelocity'] = result['v_x'].tolist()\n",
    "df_new['yVelocity'] = result['v_y'].tolist()\n",
    "df_new['xAcceleration'] = result['a_x'].tolist()\n",
    "df_new['yAcceleration'] = result['a_y'].tolist()\n",
    "df_new.head(10)\n",
    "\n",
    "df_new.to_csv('data/processed/visualization_data/acceleration_model_4/predicted/00_tracks.csv', index=False)\n"
   ]
  },
  {
   "cell_type": "code",
   "execution_count": null,
   "metadata": {},
   "outputs": [],
   "source": []
  },
  {
   "cell_type": "code",
   "execution_count": null,
   "metadata": {},
   "outputs": [],
   "source": []
  }
 ],
 "metadata": {
  "kernelspec": {
   "display_name": "social_ai_lin_reg",
   "language": "python",
   "name": "python3"
  },
  "language_info": {
   "codemirror_mode": {
    "name": "ipython",
    "version": 3
   },
   "file_extension": ".py",
   "mimetype": "text/x-python",
   "name": "python",
   "nbconvert_exporter": "python",
   "pygments_lexer": "ipython3",
   "version": "3.11.5"
  }
 },
 "nbformat": 4,
 "nbformat_minor": 2
}
